{
 "cells": [
  {
   "cell_type": "code",
   "execution_count": 5,
   "metadata": {},
   "outputs": [
    {
     "name": "stdout",
     "output_type": "stream",
     "text": [
      "a: kjhg\n",
      "erreur de saisie: il faut un nombre reel\n",
      "a: 99999999999\n",
      "enter a smaller value\n",
      "a: 0,00000000000000001\n",
      "erreur de saisie: il faut un nombre reel\n",
      "a: 0.0000000000000000001\n",
      "enter bigger value\n",
      "a: 9\n",
      "b: 78\n",
      "La valeur de l'hypoténus est de  78.5175139698144\n"
     ]
    }
   ],
   "source": [
    "from math import *\n",
    "\n",
    "ABC=False\n",
    "def imput_values(a,b):\n",
    "    return(sqrt ((a**2) + (b**2)))\n",
    "\n",
    "while not ABC:\n",
    "    try:\n",
    "        a=float(input('a: '))\n",
    "        if a > 999999:\n",
    "            print(\"enter a smaller value\")\n",
    "            continue\n",
    "        if a < 0:\n",
    "            print (\"it must be a positive number\")\n",
    "            continue\n",
    "        if a < 0.00001:\n",
    "            print(\"enter bigger value\")\n",
    "            continue\n",
    "            \n",
    "        b = float(input ('b: '))\n",
    "        if b > 999999:\n",
    "            print(\"it must be a positive number\")\n",
    "            continue\n",
    "        if a < 0:\n",
    "            print (\"it must be a positive number\")\n",
    "            continue\n",
    "        if a < 0.00001:\n",
    "            print(\"enter bigger value\")\n",
    "            continue\n",
    "            \n",
    "        print (\"La valeur de l'hypoténus est de \", imput_values(a,b))\n",
    "        ABC = True\n",
    "    except ValueError:\n",
    "        print(\"erreur de saisie: il faut un nombre reel\")\n",
    "        "
   ]
  },
  {
   "cell_type": "code",
   "execution_count": null,
   "metadata": {},
   "outputs": [],
   "source": []
  }
 ],
 "metadata": {
  "kernelspec": {
   "display_name": "Python 3",
   "language": "python",
   "name": "python3"
  },
  "language_info": {
   "codemirror_mode": {
    "name": "ipython",
    "version": 3
   },
   "file_extension": ".py",
   "mimetype": "text/x-python",
   "name": "python",
   "nbconvert_exporter": "python",
   "pygments_lexer": "ipython3",
   "version": "3.8.3"
  }
 },
 "nbformat": 4,
 "nbformat_minor": 4
}
